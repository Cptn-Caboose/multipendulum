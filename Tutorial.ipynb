{
 "cells": [
  {
   "cell_type": "markdown",
   "metadata": {},
   "source": [
    "## Multi pendulum tutorial\n",
    "---\n",
    "\n",
    "### Initial setup\n",
    "\n",
    "Some initial imports to get output looking right in the notebook."
   ]
  },
  {
   "cell_type": "code",
   "execution_count": null,
   "metadata": {},
   "outputs": [],
   "source": [
    "# only really needed for pretty printing\n",
    "import sympy as sp\n",
    "\n",
    "# for setting times, initial conditions\n",
    "import numpy as np\n",
    "\n",
    "# pretty printing of mathematical expressions\n",
    "sp.init_printing()\n",
    "\n",
    "# to display animations\n",
    "from IPython.display import HTML\n",
    "\n",
    "# to display plots in the notebook\n",
    "%matplotlib inline"
   ]
  },
  {
   "cell_type": "markdown",
   "metadata": {},
   "source": [
    "Import the multipendulum module."
   ]
  },
  {
   "cell_type": "code",
   "execution_count": null,
   "metadata": {
    "collapsed": true
   },
   "outputs": [],
   "source": [
    "import multipendulum as mp"
   ]
  },
  {
   "cell_type": "markdown",
   "metadata": {},
   "source": [
    "---\n",
    "\n",
    "### Create and configure a MultiPendulum object\n",
    "\n",
    "Nearly all of the work is done (for now) by the `MultiPendulum` object. In the near future, plots and other diagnostics will likely be moved out.\n",
    "\n",
    "When you create a `MultiPendulum`, you need to tell it how many segments it has. "
   ]
  },
  {
   "cell_type": "code",
   "execution_count": null,
   "metadata": {
    "collapsed": true
   },
   "outputs": [],
   "source": [
    "double = mp.MultiPendulum(2)"
   ]
  },
  {
   "cell_type": "markdown",
   "metadata": {},
   "source": [
    "You can set the lengths of the segments, or the masses, or both. By default, the lengths are each $1/n$ (for $n$ segments) and the masses are each 1."
   ]
  },
  {
   "cell_type": "code",
   "execution_count": null,
   "metadata": {
    "collapsed": true
   },
   "outputs": [],
   "source": [
    "double.set_lengths((0.4, 0.6))\n",
    "double.set_masses((1.5, 3.0))"
   ]
  },
  {
   "cell_type": "markdown",
   "metadata": {},
   "source": [
    "With the lengths and masses set, you can look at the (squared, angular) linear eigenfrequencies"
   ]
  },
  {
   "cell_type": "code",
   "execution_count": null,
   "metadata": {},
   "outputs": [],
   "source": [
    "double.D"
   ]
  },
  {
   "cell_type": "markdown",
   "metadata": {},
   "source": [
    "... and the (non normalized) linear eigenmodes"
   ]
  },
  {
   "cell_type": "code",
   "execution_count": null,
   "metadata": {},
   "outputs": [],
   "source": [
    "double.S"
   ]
  },
  {
   "cell_type": "markdown",
   "metadata": {},
   "source": [
    "If you change the lengths or masses, the eigenmodes and eigenfrequencies are recalculated."
   ]
  },
  {
   "cell_type": "code",
   "execution_count": null,
   "metadata": {},
   "outputs": [],
   "source": [
    "double.set_lengths((0.2, 0.8))\n",
    "double.D"
   ]
  },
  {
   "cell_type": "code",
   "execution_count": null,
   "metadata": {},
   "outputs": [],
   "source": [
    "double.S"
   ]
  },
  {
   "cell_type": "markdown",
   "metadata": {},
   "source": [
    "---\n",
    "### Integrating\n",
    "\n",
    "For time integration, the procedure is:\n",
    "1. set initial conditions\n",
    "2. set the times for integration\n",
    "3. perform the integration\n",
    "\n",
    "#### Initial conditions\n",
    "\n",
    "Initial conditions are specified via the `set_initial_conditions` method."
   ]
  },
  {
   "cell_type": "code",
   "execution_count": null,
   "metadata": {},
   "outputs": [],
   "source": [
    "help(mp.MultiPendulum.set_initial_conditions)"
   ]
  },
  {
   "cell_type": "code",
   "execution_count": null,
   "metadata": {},
   "outputs": [],
   "source": [
    "double.set_initial_conditions((0,60), (180, 0), degrees=True)\n",
    "double.y0"
   ]
  },
  {
   "cell_type": "code",
   "execution_count": null,
   "metadata": {},
   "outputs": [],
   "source": [
    "double.set_initial_conditions(1, 0, eigenmodes=True)\n",
    "double.y0"
   ]
  },
  {
   "cell_type": "markdown",
   "metadata": {},
   "source": [
    "#### Integration times\n",
    "\n",
    "The default integration is 100s long with a timestep of 0.01s, for a total of 10,000 samples."
   ]
  },
  {
   "cell_type": "code",
   "execution_count": null,
   "metadata": {},
   "outputs": [],
   "source": [
    "double.times"
   ]
  },
  {
   "cell_type": "markdown",
   "metadata": {},
   "source": [
    "Any reasonable duration and timestep size should work, however, and can be specified by creating an array of times:"
   ]
  },
  {
   "cell_type": "code",
   "execution_count": null,
   "metadata": {},
   "outputs": [],
   "source": [
    "times = np.linspace(0, 3000, 1000000)\n",
    "print(\"times has {} samples between {} and {}.\".format(len(times), times[0], times[-1]))"
   ]
  },
  {
   "cell_type": "markdown",
   "metadata": {},
   "source": [
    "More samples will of course mean longer (wall clock) integration times.\n",
    "\n",
    "#### Carrying out the integration"
   ]
  },
  {
   "cell_type": "code",
   "execution_count": null,
   "metadata": {},
   "outputs": [],
   "source": [
    "help(mp.MultiPendulum.integrate)"
   ]
  },
  {
   "cell_type": "code",
   "execution_count": null,
   "metadata": {
    "collapsed": true
   },
   "outputs": [],
   "source": [
    "times = np.linspace(0, 30, 1000)\n",
    "double.integrate(times)"
   ]
  },
  {
   "cell_type": "markdown",
   "metadata": {},
   "source": [
    "There's really nothing to see for the results of the integration without using plots of some kind.\n",
    "\n",
    "---\n",
    "\n",
    "### Plots\n",
    "\n",
    "Time evolution can be viewed in a few different ways. For the totally qualitative, you can use an animation. These are good for producing intuition, but typically aren't as precise as other plots (unless carefully constructed)."
   ]
  },
  {
   "cell_type": "code",
   "execution_count": null,
   "metadata": {},
   "outputs": [],
   "source": [
    "times = np.linspace(0, 30, 1000)\n",
    "double.animate(times)\n",
    "HTML(double.anim.to_html5_video())"
   ]
  },
  {
   "cell_type": "markdown",
   "metadata": {},
   "source": [
    "We can increase the precision of our plots a bit by going to timeseries. Since we probably want to see all coordinates and velocities, we have a function that produces a single figure (with subfigures) which captures all of this information."
   ]
  },
  {
   "cell_type": "code",
   "execution_count": null,
   "metadata": {},
   "outputs": [],
   "source": [
    "fig = double.time_series_plots()"
   ]
  },
  {
   "cell_type": "markdown",
   "metadata": {},
   "source": [
    "Another way to display this information is by plotting a slice of the attractor in two of the phase space dimensions. The natural approach is to take a coordinate and its associated velocity, so that's what I've done here."
   ]
  },
  {
   "cell_type": "code",
   "execution_count": null,
   "metadata": {},
   "outputs": [],
   "source": [
    "fig = double.phase_plots()"
   ]
  },
  {
   "cell_type": "markdown",
   "metadata": {},
   "source": [
    "Both of these plotting routines can also show the time behavior of the linear eigenmodes, rather than the individual pendulums."
   ]
  },
  {
   "cell_type": "code",
   "execution_count": null,
   "metadata": {},
   "outputs": [],
   "source": [
    "fig = double.phase_plots(eigenmodes=True)"
   ]
  },
  {
   "cell_type": "code",
   "execution_count": null,
   "metadata": {},
   "outputs": [],
   "source": [
    "fig = double.time_series_plots(eigenmodes=True)"
   ]
  },
  {
   "cell_type": "markdown",
   "metadata": {},
   "source": [
    "Lastly (for now) we also want to have more detailed information about the frequencies present in a particular time series. We get this information from a frequency power spectrum (the square magnitude of the FFT of the time series)."
   ]
  },
  {
   "cell_type": "code",
   "execution_count": null,
   "metadata": {},
   "outputs": [],
   "source": [
    "fig = double.powerspectrum()"
   ]
  },
  {
   "cell_type": "markdown",
   "metadata": {},
   "source": [
    "Again, this also works for the projection onto the linear eigenmode basis."
   ]
  },
  {
   "cell_type": "code",
   "execution_count": null,
   "metadata": {},
   "outputs": [],
   "source": [
    "fig = double.powerspectrum(eigenmodes=True)"
   ]
  },
  {
   "cell_type": "markdown",
   "metadata": {},
   "source": [
    "---\n",
    "\n",
    "### Saving output\n",
    "You will want to save output for presentations and to avoid duplicating effort. In the former case, you can get away with just saving pictures and animations, but in the latter case, you'll want to save the whole raw time series.  \n",
    "\n",
    "#### Saving animations\n",
    "\n",
    "The `anim` object has a method for writing to a file. It has a bewildering array of options. You should try to get away with using the defaults unless and until you make a movie with poor visual quality, at which time you can begin to tweak things."
   ]
  },
  {
   "cell_type": "code",
   "execution_count": null,
   "metadata": {
    "collapsed": true
   },
   "outputs": [],
   "source": [
    "# this will save tut-temp.mp4 in the same folder as this notebook\n",
    "double.anim.save(\"tut-temp.mp4\")"
   ]
  },
  {
   "cell_type": "markdown",
   "metadata": {},
   "source": [
    "For reference, here is the docstring:"
   ]
  },
  {
   "cell_type": "code",
   "execution_count": null,
   "metadata": {},
   "outputs": [],
   "source": [
    "help(double.anim.save)"
   ]
  },
  {
   "cell_type": "markdown",
   "metadata": {},
   "source": [
    "#### Saving figures\n",
    "\n",
    "Figures can also be saved easily. All of the figure plotting methods return a figure object which has a `savefig` method. The only argument you need to supply is the file name."
   ]
  },
  {
   "cell_type": "code",
   "execution_count": null,
   "metadata": {},
   "outputs": [],
   "source": [
    "fig = double.powerspectrum(eigenmodes=True)\n",
    "\n",
    "# should create 'tut-temp.png' in the folder containing this notebook.\n",
    "fig.savefig('tut-temp.png')"
   ]
  },
  {
   "cell_type": "markdown",
   "metadata": {},
   "source": [
    "There are, of course, other possible arguments."
   ]
  },
  {
   "cell_type": "code",
   "execution_count": null,
   "metadata": {},
   "outputs": [],
   "source": [
    "help(fig.savefig)"
   ]
  },
  {
   "cell_type": "markdown",
   "metadata": {},
   "source": [
    "#### Saving raw data\n",
    "\n",
    "In many cases, the data you generate with this model is pretty easy/quick to replicate; even with a million points in the time series, integrating the ODEs takes seconds rather than hours. We may get to a point, however, when that is not the case (if we move to larger numbers of links in the multipendulum, for example) and so it's useful to be able to save the results of a simulation for later analysis. We do that with the `serialize` method."
   ]
  },
  {
   "cell_type": "code",
   "execution_count": null,
   "metadata": {},
   "outputs": [],
   "source": [
    "help(double.serialize)"
   ]
  },
  {
   "cell_type": "code",
   "execution_count": null,
   "metadata": {
    "collapsed": true
   },
   "outputs": [],
   "source": [
    "# will create tut-temp.h5 in the folder containing this notebook.\n",
    "double.serialize(\"tut-temp.h5\")"
   ]
  },
  {
   "cell_type": "markdown",
   "metadata": {},
   "source": [
    "Since this functionality is mostly future-proofing at this point, I haven't yet written functions to extract data from the archive.\n",
    "\n",
    "---\n",
    "\n",
    "### The todo list\n",
    "There are a number of things still to add to this multipendulum object:\n",
    "\n",
    "1. **Energetics.** We don't yet have any diagnostics for measuring or plotting energies. We will need them.\n",
    "2. **Nonlinear Normal Modes.** To connect this with previous work.\n",
    "3. **Liapunov exponents.** If we're interested in chaos, this has to be here.\n",
    "4. **Poincare sections.** Also.\n",
    "5. **Unit tests.** Right now the code is simple enough that I'm relatively confident there are no major bugs, but there ought to be a test suite to verify this.\n",
    "6. **Further annotations on plots.** There is some additional information which should be included on the plots.\n",
    "7. **Refactoring.** The plotting functions should probably be moved into their own module within the package. This will change the API slightly\n",
    "8. **Physical bells and whistles.** In particular, I'd like to add the ability to have damping and driving."
   ]
  },
  {
   "cell_type": "code",
   "execution_count": null,
   "metadata": {
    "collapsed": true
   },
   "outputs": [],
   "source": []
  }
 ],
 "metadata": {
  "kernelspec": {
   "display_name": "Python 3",
   "language": "python",
   "name": "python3"
  },
  "language_info": {
   "codemirror_mode": {
    "name": "ipython",
    "version": 3
   },
   "file_extension": ".py",
   "mimetype": "text/x-python",
   "name": "python",
   "nbconvert_exporter": "python",
   "pygments_lexer": "ipython3",
   "version": "3.6.2"
  }
 },
 "nbformat": 4,
 "nbformat_minor": 2
}
